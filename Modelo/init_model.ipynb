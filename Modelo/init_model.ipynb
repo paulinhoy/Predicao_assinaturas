{
 "cells": [
  {
   "cell_type": "code",
   "execution_count": null,
   "metadata": {},
   "outputs": [],
   "source": [
    "import pandas as pd\n",
    "import numpy as np\n",
    "from datetime import datetime, timedelta\n",
    "pd.set_option('display.max_columns', None)\n",
    "\n",
    "\n",
    "#Graficos\n",
    "import matplotlib.pyplot as plt\n",
    "import seaborn as sns\n",
    "import scikitplot as skplt\n",
    "\n",
    "#Metricas, Pipeline\n",
    "from sklearn import metrics\n",
    "from sklearn import model_selection\n",
    "from sklearn import pipeline\n",
    "\n",
    "#Modelos\n",
    "from sklearn import tree\n",
    "from sklearn import linear_model\n",
    "from sklearn import ensemble"
   ]
  },
  {
   "cell_type": "markdown",
   "metadata": {},
   "source": [
    "# Abrindo o banco de dados / Limpando dados duplicados"
   ]
  },
  {
   "cell_type": "code",
   "execution_count": 2,
   "metadata": {},
   "outputs": [],
   "source": [
    "df_stats = pd.read_csv('../New_csv/df_info_statsplayers')\n",
    "df_medals = pd.read_csv('../New_csv/df_info_medalhas')\n",
    "df_medals = df_medals.drop(columns='Unnamed: 0')\n",
    "df_stats = df_stats.drop(columns='Unnamed: 0')\n",
    "df_medals = df_medals.drop_duplicates()"
   ]
  },
  {
   "cell_type": "markdown",
   "metadata": {},
   "source": [
    "- Juntando os dois dataframes com o parâmetro \"how='outer'\" o dataframe resultante terá dados preenchido com NaN\n",
    "- Vou completar esses dados com 0, pois se tivermos dados vazio em jogos ou medalhas que dizer que o player não possui valor nesse campos, não é devido a falta de informação"
   ]
  },
  {
   "cell_type": "code",
   "execution_count": 3,
   "metadata": {},
   "outputs": [],
   "source": [
    "df = pd.merge(df_stats, df_medals, on=['idPlayer','Data_Ref'], how='outer')\n",
    "df = df.fillna(0)"
   ]
  },
  {
   "cell_type": "markdown",
   "metadata": {},
   "source": [
    "Construindo uma função que recebe duas datas e cria uma lista como todas as datas entre data_inicial e data_final"
   ]
  },
  {
   "cell_type": "code",
   "execution_count": 4,
   "metadata": {},
   "outputs": [],
   "source": [
    "def listar_dias(data_inicial, data_final):\n",
    "    # Converter as strings de data em objetos datetime\n",
    "    data_inicial = datetime.strptime(data_inicial, '%Y-%m-%d')\n",
    "    data_final = datetime.strptime(data_final, '%Y-%m-%d')\n",
    "\n",
    "    # Gerar a lista de dias entre as datas\n",
    "    dias = []\n",
    "    delta = timedelta(days=1)     \n",
    "    while data_inicial <= data_final:\n",
    "        dias.append(data_inicial.strftime('%Y-%m-%d'))\n",
    "        data_inicial += delta\n",
    "\n",
    "    return dias\n",
    "\n",
    "data_inicial = '2021-10-14'\n",
    "data_final = '2022-01-15'         #data_final = '2022-01-15'\n",
    "dias = listar_dias(data_inicial,data_final)"
   ]
  },
  {
   "cell_type": "markdown",
   "metadata": {},
   "source": [
    "# Construção da variável alvo\n",
    "\n",
    "- Objetivo: Descobrir qual a probabilidade de um player que não é assinante se tornar assinante.\n",
    "\n",
    "- Para isso, vou filtrar os dados para que tenha somente informação dos players que não tem assinatura ativa"
   ]
  },
  {
   "cell_type": "code",
   "execution_count": 5,
   "metadata": {},
   "outputs": [
    {
     "name": "stderr",
     "output_type": "stream",
     "text": [
      "C:\\Users\\paulo\\AppData\\Local\\Temp\\ipykernel_18360\\874572345.py:2: SettingWithCopyWarning: \n",
      "A value is trying to be set on a copy of a slice from a DataFrame.\n",
      "Try using .loc[row_indexer,col_indexer] = value instead\n",
      "\n",
      "See the caveats in the documentation: https://pandas.pydata.org/pandas-docs/stable/user_guide/indexing.html#returning-a-view-versus-a-copy\n",
      "  df_ML['Alvo'] = 0\n"
     ]
    }
   ],
   "source": [
    "df_ML = df[df['AssinaturaAtiva'] == 0.0]\n",
    "df_ML['Alvo'] = 0"
   ]
  },
  {
   "cell_type": "markdown",
   "metadata": {},
   "source": [
    "- Minha variável alvo é definida como ['alvo'] = 1 se o player tem uma assinatura que foi criada até 15 dias depois da Data_Ref"
   ]
  },
  {
   "cell_type": "code",
   "execution_count": 6,
   "metadata": {},
   "outputs": [],
   "source": [
    "for dia_ref in dias:\n",
    "    df_players_medals = pd.read_csv('../Original_csv/tb_players_medalha.csv')\n",
    "    df_players_medals = df_players_medals[df_players_medals['dtCreatedAt'] < df_players_medals['dtExpiration']]\n",
    "    df_players_medals['dtCreatedAt'] = pd.to_datetime(df_players_medals['dtCreatedAt'])\n",
    "    df_players_medals = df_players_medals[df_players_medals['dtCreatedAt'] > dia_ref]\n",
    "    df_players_medals = df_players_medals[df_players_medals['dtCreatedAt'] < pd.to_datetime(dia_ref) + pd.Timedelta(days=15)]\n",
    "    df_players_medals['Alvo'] = 1\n",
    "    df_alvo = df_players_medals[['idPlayer', 'Alvo']].drop_duplicates()\n",
    "    df_alvo['Data_Ref'] = dia_ref\n",
    "\n",
    "    df_ML = df_ML.set_index(['idPlayer', 'Data_Ref'])\n",
    "    df_alvo = df_alvo.set_index(['idPlayer', 'Data_Ref'])\n",
    "    df_ML.update(df_alvo)\n",
    "    df_ML = df_ML.reset_index()\n",
    "\n",
    "df_ML = df_ML.drop_duplicates(subset=['idPlayer', 'Data_Ref'])"
   ]
  },
  {
   "cell_type": "markdown",
   "metadata": {},
   "source": [
    "Limpando alguns dados que me deram problemas"
   ]
  },
  {
   "cell_type": "code",
   "execution_count": 7,
   "metadata": {},
   "outputs": [],
   "source": [
    "df_ML['qtRecencia'] = df_ML['qtRecencia'].str.replace(' days', '')\n",
    "df_ML = df_ML.fillna(0)\n",
    "df_ML.replace([np.inf, -np.inf], 1.10, inplace=True)   # KDA tive uma divisão por zero"
   ]
  },
  {
   "cell_type": "markdown",
   "metadata": {},
   "source": [
    "# Modelos de Machine Learning\n",
    "\n",
    "1. Definindo quais são as features é o alvo\n",
    "2. Devidindo a base de dados em base de treino e de teste "
   ]
  },
  {
   "cell_type": "code",
   "execution_count": 8,
   "metadata": {},
   "outputs": [],
   "source": [
    "features = df_ML.columns[2:-2]\n",
    "features = features.to_list()\n",
    "target = 'Alvo'\n",
    "\n",
    "X = df_ML[features]\n",
    "y = df_ML[target]\n",
    "\n",
    "X_train, X_test, y_train, y_test = model_selection.train_test_split(df_ML[features],df_ML[target], test_size= 0.2, random_state=42, stratify=df_ML[target]) "
   ]
  },
  {
   "cell_type": "markdown",
   "metadata": {},
   "source": [
    "# Testando alguns modelos e descobrir qual o melhor modelo base_line para posteriormente fazer otimização de parâmetros"
   ]
  },
  {
   "cell_type": "code",
   "execution_count": 20,
   "metadata": {},
   "outputs": [],
   "source": [
    "# Definir o modelo e o pipeline\n",
    "\n",
    "rf_clf = ensemble.RandomForestClassifier(random_state=42,n_jobs=-1, n_estimators=200, min_samples_leaf=20)\n",
    "\n",
    "ada_clf = ensemble.AdaBoostClassifier(random_state=42,learning_rate= 0.8, n_estimators=200)\n",
    "\n",
    "dt_clf = tree.DecisionTreeClassifier(random_state=42,max_depth=15, min_samples_leaf=50)\n",
    "\n",
    "rl_clf = linear_model.LogisticRegressionCV(random_state=42, n_jobs=-1)\n",
    "\n",
    "\n",
    "pipeline_rf = pipeline.Pipeline([\n",
    "    ('model', rf_clf)\n",
    "])\n",
    "\n",
    "pipeline_ada = pipeline.Pipeline([\n",
    "    ('model', ada_clf)\n",
    "])\n",
    "\n",
    "pipeline_dt = pipeline.Pipeline([\n",
    "    ('model', dt_clf)\n",
    "])\n",
    "\n",
    "pipeline_rl = pipeline.Pipeline([\n",
    "    ('model', rl_clf) \n",
    "])\n",
    "\n",
    "\n",
    "# Lista com todos o modelos\n",
    "\n",
    "models = {'Random_Florest':pipeline_rf, \n",
    "          'AdaBoost': pipeline_ada,\n",
    "          'Decision Tree':pipeline_dt,\n",
    "          'Logist Regression': pipeline_rl}\n",
    "\n",
    "def train_test_report(model, X_train, y_train, X_test, y_test, key_metric, is_prob=True):\n",
    "    model.fit(X_train, y_train)\n",
    "    pred = model.predict(X_test)\n",
    "    prob = model.predict_proba(X_test)\n",
    "    metric_result = key_metric(y_test, prob[:,1]) if is_prob else key_metric(y_test, pred)\n",
    "\n",
    "    return metric_result"
   ]
  },
  {
   "cell_type": "code",
   "execution_count": 21,
   "metadata": {},
   "outputs": [
    {
     "name": "stdout",
     "output_type": "stream",
     "text": [
      "Random_Florest 0.9798785084321016\n",
      "AdaBoost 0.7879037450525473\n",
      "Decision Tree 0.8907359921347168\n",
      "Logist Regression 0.7549122390085344\n"
     ]
    },
    {
     "name": "stderr",
     "output_type": "stream",
     "text": [
      "c:\\Users\\paulo\\OneDrive\\Área de Trabalho\\projetos\\Predicao_assinaturas\\.venv\\lib\\site-packages\\sklearn\\linear_model\\_logistic.py:465: ConvergenceWarning: lbfgs failed to converge (status=1):\n",
      "STOP: TOTAL NO. of ITERATIONS REACHED LIMIT.\n",
      "\n",
      "Increase the number of iterations (max_iter) or scale the data as shown in:\n",
      "    https://scikit-learn.org/stable/modules/preprocessing.html\n",
      "Please also refer to the documentation for alternative solver options:\n",
      "    https://scikit-learn.org/stable/modules/linear_model.html#logistic-regression\n",
      "  n_iter_i = _check_optimize_result(\n"
     ]
    }
   ],
   "source": [
    "for d,m in models.items():\n",
    "    result = train_test_report(m, X_train, y_train, X_test, y_test, metrics.roc_auc_score)\n",
    "    print(d, result)"
   ]
  },
  {
   "cell_type": "markdown",
   "metadata": {},
   "source": [
    "Resultado dos modelos usando poucos parâmetros tendo a curva ROC como métrica:\n",
    "\n",
    "1. Random_Florest 0.9798785084321016\n",
    "2. AdaBoost 0.7879037450525473\n",
    "3. Decision Tree 0.8907359921347168\n",
    "4. Logist Regression 0.7549122390085344\n",
    "\n",
    "# Realizando a otimização de parâmetros usando GridSearch:\n",
    "\n",
    "Agora eu quero que o grid search seja uma etapa do pipeline. Essa ordem é importante para economizar processamento. \n",
    "Então eu vou pegar o modelo que melhor desempenhou (random_florest) e fazer um pipeline para ele:\n",
    "\n",
    "- Aqui eu coloco o grid dentro do pipeline, então meu fluxo de trabalho é:\n",
    "\n",
    "1. Os dados passam por todas as modificações que eles precisam até estarem prontos para serem treinados\n",
    "2. Os dados, agora pronto para serem treinados, passam pelo grid em que são treinados com diferentes parâmetros e é feito a comparação para eleger a melhor combinação\n",
    "\n",
    "Desse modo eu não preciso processar os dados todas as vezes em que ele passar pelo grid com um parâmetro diferente"
   ]
  },
  {
   "cell_type": "code",
   "execution_count": 58,
   "metadata": {},
   "outputs": [
    {
     "name": "stdout",
     "output_type": "stream",
     "text": [
      "Fitting 4 folds for each of 16 candidates, totalling 64 fits\n",
      "[CV 1/4] END min_samples_leaf=1, n_estimators=50;, score=0.990 total time=  11.7s\n",
      "[CV 2/4] END min_samples_leaf=1, n_estimators=50;, score=0.989 total time=  11.7s\n",
      "[CV 3/4] END min_samples_leaf=1, n_estimators=50;, score=0.987 total time=  11.8s\n",
      "[CV 4/4] END min_samples_leaf=1, n_estimators=50;, score=0.990 total time=  12.0s\n",
      "[CV 1/4] END min_samples_leaf=1, n_estimators=100;, score=0.990 total time=  23.3s\n",
      "[CV 2/4] END min_samples_leaf=1, n_estimators=100;, score=0.990 total time=  23.5s\n",
      "[CV 3/4] END min_samples_leaf=1, n_estimators=100;, score=0.987 total time=  23.4s\n",
      "[CV 4/4] END min_samples_leaf=1, n_estimators=100;, score=0.991 total time=  23.2s\n",
      "[CV 1/4] END min_samples_leaf=1, n_estimators=150;, score=0.990 total time=  34.8s\n",
      "[CV 2/4] END min_samples_leaf=1, n_estimators=150;, score=0.990 total time=  35.5s\n",
      "[CV 3/4] END min_samples_leaf=1, n_estimators=150;, score=0.988 total time=  35.7s\n",
      "[CV 4/4] END min_samples_leaf=1, n_estimators=150;, score=0.991 total time=  35.8s\n",
      "[CV 1/4] END min_samples_leaf=1, n_estimators=200;, score=0.991 total time=  47.6s\n",
      "[CV 2/4] END min_samples_leaf=1, n_estimators=200;, score=0.991 total time=  47.9s\n",
      "[CV 3/4] END min_samples_leaf=1, n_estimators=200;, score=0.990 total time=  47.6s\n",
      "[CV 4/4] END min_samples_leaf=1, n_estimators=200;, score=0.991 total time=  47.1s\n",
      "[CV 1/4] END min_samples_leaf=5, n_estimators=50;, score=0.985 total time=  11.2s\n",
      "[CV 2/4] END min_samples_leaf=5, n_estimators=50;, score=0.985 total time=  11.2s\n",
      "[CV 3/4] END min_samples_leaf=5, n_estimators=50;, score=0.987 total time=  11.4s\n",
      "[CV 4/4] END min_samples_leaf=5, n_estimators=50;, score=0.986 total time=  11.1s\n",
      "[CV 1/4] END min_samples_leaf=5, n_estimators=100;, score=0.985 total time=  22.1s\n",
      "[CV 2/4] END min_samples_leaf=5, n_estimators=100;, score=0.986 total time=  22.2s\n",
      "[CV 3/4] END min_samples_leaf=5, n_estimators=100;, score=0.987 total time=  22.2s\n",
      "[CV 4/4] END min_samples_leaf=5, n_estimators=100;, score=0.987 total time=  22.0s\n",
      "[CV 1/4] END min_samples_leaf=5, n_estimators=150;, score=0.985 total time=  33.3s\n",
      "[CV 2/4] END min_samples_leaf=5, n_estimators=150;, score=0.987 total time=  34.3s\n",
      "[CV 3/4] END min_samples_leaf=5, n_estimators=150;, score=0.987 total time=  34.5s\n",
      "[CV 4/4] END min_samples_leaf=5, n_estimators=150;, score=0.987 total time=  33.1s\n",
      "[CV 1/4] END min_samples_leaf=5, n_estimators=200;, score=0.986 total time=  43.5s\n",
      "[CV 2/4] END min_samples_leaf=5, n_estimators=200;, score=0.987 total time=  44.1s\n",
      "[CV 3/4] END min_samples_leaf=5, n_estimators=200;, score=0.987 total time=  43.9s\n",
      "[CV 4/4] END min_samples_leaf=5, n_estimators=200;, score=0.987 total time=  43.9s\n",
      "[CV 1/4] END min_samples_leaf=10, n_estimators=50;, score=0.978 total time=  10.6s\n",
      "[CV 2/4] END min_samples_leaf=10, n_estimators=50;, score=0.980 total time=  10.7s\n",
      "[CV 3/4] END min_samples_leaf=10, n_estimators=50;, score=0.980 total time=  10.5s\n",
      "[CV 4/4] END min_samples_leaf=10, n_estimators=50;, score=0.980 total time=  10.5s\n",
      "[CV 1/4] END min_samples_leaf=10, n_estimators=100;, score=0.979 total time=  20.9s\n",
      "[CV 2/4] END min_samples_leaf=10, n_estimators=100;, score=0.981 total time=  21.0s\n",
      "[CV 3/4] END min_samples_leaf=10, n_estimators=100;, score=0.982 total time=  21.0s\n",
      "[CV 4/4] END min_samples_leaf=10, n_estimators=100;, score=0.982 total time=  21.1s\n",
      "[CV 1/4] END min_samples_leaf=10, n_estimators=150;, score=0.981 total time=  31.2s\n",
      "[CV 2/4] END min_samples_leaf=10, n_estimators=150;, score=0.981 total time=  32.0s\n",
      "[CV 3/4] END min_samples_leaf=10, n_estimators=150;, score=0.982 total time=  31.6s\n",
      "[CV 4/4] END min_samples_leaf=10, n_estimators=150;, score=0.981 total time=  31.7s\n",
      "[CV 1/4] END min_samples_leaf=10, n_estimators=200;, score=0.980 total time=  42.5s\n",
      "[CV 2/4] END min_samples_leaf=10, n_estimators=200;, score=0.980 total time=  42.4s\n",
      "[CV 3/4] END min_samples_leaf=10, n_estimators=200;, score=0.982 total time=  42.1s\n",
      "[CV 4/4] END min_samples_leaf=10, n_estimators=200;, score=0.982 total time=  41.7s\n",
      "[CV 1/4] END min_samples_leaf=20, n_estimators=50;, score=0.969 total time=   9.9s\n",
      "[CV 2/4] END min_samples_leaf=20, n_estimators=50;, score=0.970 total time=   9.8s\n",
      "[CV 3/4] END min_samples_leaf=20, n_estimators=50;, score=0.972 total time=   9.8s\n",
      "[CV 4/4] END min_samples_leaf=20, n_estimators=50;, score=0.972 total time=   9.9s\n",
      "[CV 1/4] END min_samples_leaf=20, n_estimators=100;, score=0.969 total time=  19.5s\n",
      "[CV 2/4] END min_samples_leaf=20, n_estimators=100;, score=0.970 total time=  19.6s\n",
      "[CV 3/4] END min_samples_leaf=20, n_estimators=100;, score=0.972 total time=  19.4s\n",
      "[CV 4/4] END min_samples_leaf=20, n_estimators=100;, score=0.971 total time=  19.5s\n",
      "[CV 1/4] END min_samples_leaf=20, n_estimators=150;, score=0.970 total time=  29.6s\n",
      "[CV 2/4] END min_samples_leaf=20, n_estimators=150;, score=0.970 total time=  29.7s\n",
      "[CV 3/4] END min_samples_leaf=20, n_estimators=150;, score=0.972 total time=  29.5s\n",
      "[CV 4/4] END min_samples_leaf=20, n_estimators=150;, score=0.972 total time=  29.3s\n",
      "[CV 1/4] END min_samples_leaf=20, n_estimators=200;, score=0.970 total time=  38.5s\n",
      "[CV 2/4] END min_samples_leaf=20, n_estimators=200;, score=0.970 total time=  39.3s\n",
      "[CV 3/4] END min_samples_leaf=20, n_estimators=200;, score=0.973 total time=  39.2s\n",
      "[CV 4/4] END min_samples_leaf=20, n_estimators=200;, score=0.972 total time=  39.6s\n"
     ]
    },
    {
     "data": {
      "text/html": [
       "<style>#sk-container-id-4 {\n",
       "  /* Definition of color scheme common for light and dark mode */\n",
       "  --sklearn-color-text: #000;\n",
       "  --sklearn-color-text-muted: #666;\n",
       "  --sklearn-color-line: gray;\n",
       "  /* Definition of color scheme for unfitted estimators */\n",
       "  --sklearn-color-unfitted-level-0: #fff5e6;\n",
       "  --sklearn-color-unfitted-level-1: #f6e4d2;\n",
       "  --sklearn-color-unfitted-level-2: #ffe0b3;\n",
       "  --sklearn-color-unfitted-level-3: chocolate;\n",
       "  /* Definition of color scheme for fitted estimators */\n",
       "  --sklearn-color-fitted-level-0: #f0f8ff;\n",
       "  --sklearn-color-fitted-level-1: #d4ebff;\n",
       "  --sklearn-color-fitted-level-2: #b3dbfd;\n",
       "  --sklearn-color-fitted-level-3: cornflowerblue;\n",
       "\n",
       "  /* Specific color for light theme */\n",
       "  --sklearn-color-text-on-default-background: var(--sg-text-color, var(--theme-code-foreground, var(--jp-content-font-color1, black)));\n",
       "  --sklearn-color-background: var(--sg-background-color, var(--theme-background, var(--jp-layout-color0, white)));\n",
       "  --sklearn-color-border-box: var(--sg-text-color, var(--theme-code-foreground, var(--jp-content-font-color1, black)));\n",
       "  --sklearn-color-icon: #696969;\n",
       "\n",
       "  @media (prefers-color-scheme: dark) {\n",
       "    /* Redefinition of color scheme for dark theme */\n",
       "    --sklearn-color-text-on-default-background: var(--sg-text-color, var(--theme-code-foreground, var(--jp-content-font-color1, white)));\n",
       "    --sklearn-color-background: var(--sg-background-color, var(--theme-background, var(--jp-layout-color0, #111)));\n",
       "    --sklearn-color-border-box: var(--sg-text-color, var(--theme-code-foreground, var(--jp-content-font-color1, white)));\n",
       "    --sklearn-color-icon: #878787;\n",
       "  }\n",
       "}\n",
       "\n",
       "#sk-container-id-4 {\n",
       "  color: var(--sklearn-color-text);\n",
       "}\n",
       "\n",
       "#sk-container-id-4 pre {\n",
       "  padding: 0;\n",
       "}\n",
       "\n",
       "#sk-container-id-4 input.sk-hidden--visually {\n",
       "  border: 0;\n",
       "  clip: rect(1px 1px 1px 1px);\n",
       "  clip: rect(1px, 1px, 1px, 1px);\n",
       "  height: 1px;\n",
       "  margin: -1px;\n",
       "  overflow: hidden;\n",
       "  padding: 0;\n",
       "  position: absolute;\n",
       "  width: 1px;\n",
       "}\n",
       "\n",
       "#sk-container-id-4 div.sk-dashed-wrapped {\n",
       "  border: 1px dashed var(--sklearn-color-line);\n",
       "  margin: 0 0.4em 0.5em 0.4em;\n",
       "  box-sizing: border-box;\n",
       "  padding-bottom: 0.4em;\n",
       "  background-color: var(--sklearn-color-background);\n",
       "}\n",
       "\n",
       "#sk-container-id-4 div.sk-container {\n",
       "  /* jupyter's `normalize.less` sets `[hidden] { display: none; }`\n",
       "     but bootstrap.min.css set `[hidden] { display: none !important; }`\n",
       "     so we also need the `!important` here to be able to override the\n",
       "     default hidden behavior on the sphinx rendered scikit-learn.org.\n",
       "     See: https://github.com/scikit-learn/scikit-learn/issues/21755 */\n",
       "  display: inline-block !important;\n",
       "  position: relative;\n",
       "}\n",
       "\n",
       "#sk-container-id-4 div.sk-text-repr-fallback {\n",
       "  display: none;\n",
       "}\n",
       "\n",
       "div.sk-parallel-item,\n",
       "div.sk-serial,\n",
       "div.sk-item {\n",
       "  /* draw centered vertical line to link estimators */\n",
       "  background-image: linear-gradient(var(--sklearn-color-text-on-default-background), var(--sklearn-color-text-on-default-background));\n",
       "  background-size: 2px 100%;\n",
       "  background-repeat: no-repeat;\n",
       "  background-position: center center;\n",
       "}\n",
       "\n",
       "/* Parallel-specific style estimator block */\n",
       "\n",
       "#sk-container-id-4 div.sk-parallel-item::after {\n",
       "  content: \"\";\n",
       "  width: 100%;\n",
       "  border-bottom: 2px solid var(--sklearn-color-text-on-default-background);\n",
       "  flex-grow: 1;\n",
       "}\n",
       "\n",
       "#sk-container-id-4 div.sk-parallel {\n",
       "  display: flex;\n",
       "  align-items: stretch;\n",
       "  justify-content: center;\n",
       "  background-color: var(--sklearn-color-background);\n",
       "  position: relative;\n",
       "}\n",
       "\n",
       "#sk-container-id-4 div.sk-parallel-item {\n",
       "  display: flex;\n",
       "  flex-direction: column;\n",
       "}\n",
       "\n",
       "#sk-container-id-4 div.sk-parallel-item:first-child::after {\n",
       "  align-self: flex-end;\n",
       "  width: 50%;\n",
       "}\n",
       "\n",
       "#sk-container-id-4 div.sk-parallel-item:last-child::after {\n",
       "  align-self: flex-start;\n",
       "  width: 50%;\n",
       "}\n",
       "\n",
       "#sk-container-id-4 div.sk-parallel-item:only-child::after {\n",
       "  width: 0;\n",
       "}\n",
       "\n",
       "/* Serial-specific style estimator block */\n",
       "\n",
       "#sk-container-id-4 div.sk-serial {\n",
       "  display: flex;\n",
       "  flex-direction: column;\n",
       "  align-items: center;\n",
       "  background-color: var(--sklearn-color-background);\n",
       "  padding-right: 1em;\n",
       "  padding-left: 1em;\n",
       "}\n",
       "\n",
       "\n",
       "/* Toggleable style: style used for estimator/Pipeline/ColumnTransformer box that is\n",
       "clickable and can be expanded/collapsed.\n",
       "- Pipeline and ColumnTransformer use this feature and define the default style\n",
       "- Estimators will overwrite some part of the style using the `sk-estimator` class\n",
       "*/\n",
       "\n",
       "/* Pipeline and ColumnTransformer style (default) */\n",
       "\n",
       "#sk-container-id-4 div.sk-toggleable {\n",
       "  /* Default theme specific background. It is overwritten whether we have a\n",
       "  specific estimator or a Pipeline/ColumnTransformer */\n",
       "  background-color: var(--sklearn-color-background);\n",
       "}\n",
       "\n",
       "/* Toggleable label */\n",
       "#sk-container-id-4 label.sk-toggleable__label {\n",
       "  cursor: pointer;\n",
       "  display: flex;\n",
       "  width: 100%;\n",
       "  margin-bottom: 0;\n",
       "  padding: 0.5em;\n",
       "  box-sizing: border-box;\n",
       "  text-align: center;\n",
       "  align-items: start;\n",
       "  justify-content: space-between;\n",
       "  gap: 0.5em;\n",
       "}\n",
       "\n",
       "#sk-container-id-4 label.sk-toggleable__label .caption {\n",
       "  font-size: 0.6rem;\n",
       "  font-weight: lighter;\n",
       "  color: var(--sklearn-color-text-muted);\n",
       "}\n",
       "\n",
       "#sk-container-id-4 label.sk-toggleable__label-arrow:before {\n",
       "  /* Arrow on the left of the label */\n",
       "  content: \"▸\";\n",
       "  float: left;\n",
       "  margin-right: 0.25em;\n",
       "  color: var(--sklearn-color-icon);\n",
       "}\n",
       "\n",
       "#sk-container-id-4 label.sk-toggleable__label-arrow:hover:before {\n",
       "  color: var(--sklearn-color-text);\n",
       "}\n",
       "\n",
       "/* Toggleable content - dropdown */\n",
       "\n",
       "#sk-container-id-4 div.sk-toggleable__content {\n",
       "  max-height: 0;\n",
       "  max-width: 0;\n",
       "  overflow: hidden;\n",
       "  text-align: left;\n",
       "  /* unfitted */\n",
       "  background-color: var(--sklearn-color-unfitted-level-0);\n",
       "}\n",
       "\n",
       "#sk-container-id-4 div.sk-toggleable__content.fitted {\n",
       "  /* fitted */\n",
       "  background-color: var(--sklearn-color-fitted-level-0);\n",
       "}\n",
       "\n",
       "#sk-container-id-4 div.sk-toggleable__content pre {\n",
       "  margin: 0.2em;\n",
       "  border-radius: 0.25em;\n",
       "  color: var(--sklearn-color-text);\n",
       "  /* unfitted */\n",
       "  background-color: var(--sklearn-color-unfitted-level-0);\n",
       "}\n",
       "\n",
       "#sk-container-id-4 div.sk-toggleable__content.fitted pre {\n",
       "  /* unfitted */\n",
       "  background-color: var(--sklearn-color-fitted-level-0);\n",
       "}\n",
       "\n",
       "#sk-container-id-4 input.sk-toggleable__control:checked~div.sk-toggleable__content {\n",
       "  /* Expand drop-down */\n",
       "  max-height: 200px;\n",
       "  max-width: 100%;\n",
       "  overflow: auto;\n",
       "}\n",
       "\n",
       "#sk-container-id-4 input.sk-toggleable__control:checked~label.sk-toggleable__label-arrow:before {\n",
       "  content: \"▾\";\n",
       "}\n",
       "\n",
       "/* Pipeline/ColumnTransformer-specific style */\n",
       "\n",
       "#sk-container-id-4 div.sk-label input.sk-toggleable__control:checked~label.sk-toggleable__label {\n",
       "  color: var(--sklearn-color-text);\n",
       "  background-color: var(--sklearn-color-unfitted-level-2);\n",
       "}\n",
       "\n",
       "#sk-container-id-4 div.sk-label.fitted input.sk-toggleable__control:checked~label.sk-toggleable__label {\n",
       "  background-color: var(--sklearn-color-fitted-level-2);\n",
       "}\n",
       "\n",
       "/* Estimator-specific style */\n",
       "\n",
       "/* Colorize estimator box */\n",
       "#sk-container-id-4 div.sk-estimator input.sk-toggleable__control:checked~label.sk-toggleable__label {\n",
       "  /* unfitted */\n",
       "  background-color: var(--sklearn-color-unfitted-level-2);\n",
       "}\n",
       "\n",
       "#sk-container-id-4 div.sk-estimator.fitted input.sk-toggleable__control:checked~label.sk-toggleable__label {\n",
       "  /* fitted */\n",
       "  background-color: var(--sklearn-color-fitted-level-2);\n",
       "}\n",
       "\n",
       "#sk-container-id-4 div.sk-label label.sk-toggleable__label,\n",
       "#sk-container-id-4 div.sk-label label {\n",
       "  /* The background is the default theme color */\n",
       "  color: var(--sklearn-color-text-on-default-background);\n",
       "}\n",
       "\n",
       "/* On hover, darken the color of the background */\n",
       "#sk-container-id-4 div.sk-label:hover label.sk-toggleable__label {\n",
       "  color: var(--sklearn-color-text);\n",
       "  background-color: var(--sklearn-color-unfitted-level-2);\n",
       "}\n",
       "\n",
       "/* Label box, darken color on hover, fitted */\n",
       "#sk-container-id-4 div.sk-label.fitted:hover label.sk-toggleable__label.fitted {\n",
       "  color: var(--sklearn-color-text);\n",
       "  background-color: var(--sklearn-color-fitted-level-2);\n",
       "}\n",
       "\n",
       "/* Estimator label */\n",
       "\n",
       "#sk-container-id-4 div.sk-label label {\n",
       "  font-family: monospace;\n",
       "  font-weight: bold;\n",
       "  display: inline-block;\n",
       "  line-height: 1.2em;\n",
       "}\n",
       "\n",
       "#sk-container-id-4 div.sk-label-container {\n",
       "  text-align: center;\n",
       "}\n",
       "\n",
       "/* Estimator-specific */\n",
       "#sk-container-id-4 div.sk-estimator {\n",
       "  font-family: monospace;\n",
       "  border: 1px dotted var(--sklearn-color-border-box);\n",
       "  border-radius: 0.25em;\n",
       "  box-sizing: border-box;\n",
       "  margin-bottom: 0.5em;\n",
       "  /* unfitted */\n",
       "  background-color: var(--sklearn-color-unfitted-level-0);\n",
       "}\n",
       "\n",
       "#sk-container-id-4 div.sk-estimator.fitted {\n",
       "  /* fitted */\n",
       "  background-color: var(--sklearn-color-fitted-level-0);\n",
       "}\n",
       "\n",
       "/* on hover */\n",
       "#sk-container-id-4 div.sk-estimator:hover {\n",
       "  /* unfitted */\n",
       "  background-color: var(--sklearn-color-unfitted-level-2);\n",
       "}\n",
       "\n",
       "#sk-container-id-4 div.sk-estimator.fitted:hover {\n",
       "  /* fitted */\n",
       "  background-color: var(--sklearn-color-fitted-level-2);\n",
       "}\n",
       "\n",
       "/* Specification for estimator info (e.g. \"i\" and \"?\") */\n",
       "\n",
       "/* Common style for \"i\" and \"?\" */\n",
       "\n",
       ".sk-estimator-doc-link,\n",
       "a:link.sk-estimator-doc-link,\n",
       "a:visited.sk-estimator-doc-link {\n",
       "  float: right;\n",
       "  font-size: smaller;\n",
       "  line-height: 1em;\n",
       "  font-family: monospace;\n",
       "  background-color: var(--sklearn-color-background);\n",
       "  border-radius: 1em;\n",
       "  height: 1em;\n",
       "  width: 1em;\n",
       "  text-decoration: none !important;\n",
       "  margin-left: 0.5em;\n",
       "  text-align: center;\n",
       "  /* unfitted */\n",
       "  border: var(--sklearn-color-unfitted-level-1) 1pt solid;\n",
       "  color: var(--sklearn-color-unfitted-level-1);\n",
       "}\n",
       "\n",
       ".sk-estimator-doc-link.fitted,\n",
       "a:link.sk-estimator-doc-link.fitted,\n",
       "a:visited.sk-estimator-doc-link.fitted {\n",
       "  /* fitted */\n",
       "  border: var(--sklearn-color-fitted-level-1) 1pt solid;\n",
       "  color: var(--sklearn-color-fitted-level-1);\n",
       "}\n",
       "\n",
       "/* On hover */\n",
       "div.sk-estimator:hover .sk-estimator-doc-link:hover,\n",
       ".sk-estimator-doc-link:hover,\n",
       "div.sk-label-container:hover .sk-estimator-doc-link:hover,\n",
       ".sk-estimator-doc-link:hover {\n",
       "  /* unfitted */\n",
       "  background-color: var(--sklearn-color-unfitted-level-3);\n",
       "  color: var(--sklearn-color-background);\n",
       "  text-decoration: none;\n",
       "}\n",
       "\n",
       "div.sk-estimator.fitted:hover .sk-estimator-doc-link.fitted:hover,\n",
       ".sk-estimator-doc-link.fitted:hover,\n",
       "div.sk-label-container:hover .sk-estimator-doc-link.fitted:hover,\n",
       ".sk-estimator-doc-link.fitted:hover {\n",
       "  /* fitted */\n",
       "  background-color: var(--sklearn-color-fitted-level-3);\n",
       "  color: var(--sklearn-color-background);\n",
       "  text-decoration: none;\n",
       "}\n",
       "\n",
       "/* Span, style for the box shown on hovering the info icon */\n",
       ".sk-estimator-doc-link span {\n",
       "  display: none;\n",
       "  z-index: 9999;\n",
       "  position: relative;\n",
       "  font-weight: normal;\n",
       "  right: .2ex;\n",
       "  padding: .5ex;\n",
       "  margin: .5ex;\n",
       "  width: min-content;\n",
       "  min-width: 20ex;\n",
       "  max-width: 50ex;\n",
       "  color: var(--sklearn-color-text);\n",
       "  box-shadow: 2pt 2pt 4pt #999;\n",
       "  /* unfitted */\n",
       "  background: var(--sklearn-color-unfitted-level-0);\n",
       "  border: .5pt solid var(--sklearn-color-unfitted-level-3);\n",
       "}\n",
       "\n",
       ".sk-estimator-doc-link.fitted span {\n",
       "  /* fitted */\n",
       "  background: var(--sklearn-color-fitted-level-0);\n",
       "  border: var(--sklearn-color-fitted-level-3);\n",
       "}\n",
       "\n",
       ".sk-estimator-doc-link:hover span {\n",
       "  display: block;\n",
       "}\n",
       "\n",
       "/* \"?\"-specific style due to the `<a>` HTML tag */\n",
       "\n",
       "#sk-container-id-4 a.estimator_doc_link {\n",
       "  float: right;\n",
       "  font-size: 1rem;\n",
       "  line-height: 1em;\n",
       "  font-family: monospace;\n",
       "  background-color: var(--sklearn-color-background);\n",
       "  border-radius: 1rem;\n",
       "  height: 1rem;\n",
       "  width: 1rem;\n",
       "  text-decoration: none;\n",
       "  /* unfitted */\n",
       "  color: var(--sklearn-color-unfitted-level-1);\n",
       "  border: var(--sklearn-color-unfitted-level-1) 1pt solid;\n",
       "}\n",
       "\n",
       "#sk-container-id-4 a.estimator_doc_link.fitted {\n",
       "  /* fitted */\n",
       "  border: var(--sklearn-color-fitted-level-1) 1pt solid;\n",
       "  color: var(--sklearn-color-fitted-level-1);\n",
       "}\n",
       "\n",
       "/* On hover */\n",
       "#sk-container-id-4 a.estimator_doc_link:hover {\n",
       "  /* unfitted */\n",
       "  background-color: var(--sklearn-color-unfitted-level-3);\n",
       "  color: var(--sklearn-color-background);\n",
       "  text-decoration: none;\n",
       "}\n",
       "\n",
       "#sk-container-id-4 a.estimator_doc_link.fitted:hover {\n",
       "  /* fitted */\n",
       "  background-color: var(--sklearn-color-fitted-level-3);\n",
       "}\n",
       "</style><div id=\"sk-container-id-4\" class=\"sk-top-container\"><div class=\"sk-text-repr-fallback\"><pre>Pipeline(steps=[(&#x27;Modelo&#x27;,\n",
       "                 GridSearchCV(cv=4, estimator=RandomForestClassifier(),\n",
       "                              param_grid={&#x27;min_samples_leaf&#x27;: [1, 5, 10, 20],\n",
       "                                          &#x27;n_estimators&#x27;: [50, 100, 150, 200]},\n",
       "                              scoring=&#x27;roc_auc&#x27;, verbose=3))])</pre><b>In a Jupyter environment, please rerun this cell to show the HTML representation or trust the notebook. <br />On GitHub, the HTML representation is unable to render, please try loading this page with nbviewer.org.</b></div><div class=\"sk-container\" hidden><div class=\"sk-item sk-dashed-wrapped\"><div class=\"sk-label-container\"><div class=\"sk-label fitted sk-toggleable\"><input class=\"sk-toggleable__control sk-hidden--visually\" id=\"sk-estimator-id-10\" type=\"checkbox\" ><label for=\"sk-estimator-id-10\" class=\"sk-toggleable__label fitted sk-toggleable__label-arrow\"><div><div>Pipeline</div></div><div><a class=\"sk-estimator-doc-link fitted\" rel=\"noreferrer\" target=\"_blank\" href=\"https://scikit-learn.org/1.6/modules/generated/sklearn.pipeline.Pipeline.html\">?<span>Documentation for Pipeline</span></a><span class=\"sk-estimator-doc-link fitted\">i<span>Fitted</span></span></div></label><div class=\"sk-toggleable__content fitted\"><pre>Pipeline(steps=[(&#x27;Modelo&#x27;,\n",
       "                 GridSearchCV(cv=4, estimator=RandomForestClassifier(),\n",
       "                              param_grid={&#x27;min_samples_leaf&#x27;: [1, 5, 10, 20],\n",
       "                                          &#x27;n_estimators&#x27;: [50, 100, 150, 200]},\n",
       "                              scoring=&#x27;roc_auc&#x27;, verbose=3))])</pre></div> </div></div><div class=\"sk-serial\"><div class=\"sk-item sk-dashed-wrapped\"><div class=\"sk-label-container\"><div class=\"sk-label fitted sk-toggleable\"><input class=\"sk-toggleable__control sk-hidden--visually\" id=\"sk-estimator-id-11\" type=\"checkbox\" ><label for=\"sk-estimator-id-11\" class=\"sk-toggleable__label fitted sk-toggleable__label-arrow\"><div><div>Modelo: GridSearchCV</div></div><div><a class=\"sk-estimator-doc-link fitted\" rel=\"noreferrer\" target=\"_blank\" href=\"https://scikit-learn.org/1.6/modules/generated/sklearn.model_selection.GridSearchCV.html\">?<span>Documentation for Modelo: GridSearchCV</span></a></div></label><div class=\"sk-toggleable__content fitted\"><pre>GridSearchCV(cv=4, estimator=RandomForestClassifier(),\n",
       "             param_grid={&#x27;min_samples_leaf&#x27;: [1, 5, 10, 20],\n",
       "                         &#x27;n_estimators&#x27;: [50, 100, 150, 200]},\n",
       "             scoring=&#x27;roc_auc&#x27;, verbose=3)</pre></div> </div></div><div class=\"sk-parallel\"><div class=\"sk-parallel-item\"><div class=\"sk-item\"><div class=\"sk-label-container\"><div class=\"sk-label fitted sk-toggleable\"><input class=\"sk-toggleable__control sk-hidden--visually\" id=\"sk-estimator-id-12\" type=\"checkbox\" ><label for=\"sk-estimator-id-12\" class=\"sk-toggleable__label fitted sk-toggleable__label-arrow\"><div><div>best_estimator_: RandomForestClassifier</div></div></label><div class=\"sk-toggleable__content fitted\"><pre>RandomForestClassifier(n_estimators=200)</pre></div> </div></div><div class=\"sk-serial\"><div class=\"sk-item\"><div class=\"sk-estimator fitted sk-toggleable\"><input class=\"sk-toggleable__control sk-hidden--visually\" id=\"sk-estimator-id-13\" type=\"checkbox\" ><label for=\"sk-estimator-id-13\" class=\"sk-toggleable__label fitted sk-toggleable__label-arrow\"><div><div>RandomForestClassifier</div></div><div><a class=\"sk-estimator-doc-link fitted\" rel=\"noreferrer\" target=\"_blank\" href=\"https://scikit-learn.org/1.6/modules/generated/sklearn.ensemble.RandomForestClassifier.html\">?<span>Documentation for RandomForestClassifier</span></a></div></label><div class=\"sk-toggleable__content fitted\"><pre>RandomForestClassifier(n_estimators=200)</pre></div> </div></div></div></div></div></div></div></div></div></div></div>"
      ],
      "text/plain": [
       "Pipeline(steps=[('Modelo',\n",
       "                 GridSearchCV(cv=4, estimator=RandomForestClassifier(),\n",
       "                              param_grid={'min_samples_leaf': [1, 5, 10, 20],\n",
       "                                          'n_estimators': [50, 100, 150, 200]},\n",
       "                              scoring='roc_auc', verbose=3))])"
      ]
     },
     "execution_count": 58,
     "metadata": {},
     "output_type": "execute_result"
    }
   ],
   "source": [
    "rf_clf = ensemble.RandomForestClassifier()\n",
    "params = {\"n_estimators\":[50, 100, 150, 200],\n",
    "          \"min_samples_leaf\":[1, 5, 10, 20] }\n",
    "\n",
    "grid_search = model_selection.GridSearchCV(rf_clf, params, cv=4, scoring='roc_auc', verbose=3, refit=True)\n",
    "\n",
    "pipe_rf = pipeline.Pipeline([(\"Modelo\", grid_search)])  #Lembrar de fazer um pipeline completo depois\n",
    "\n",
    "pipe_rf.fit(X_train, y_train)"
   ]
  },
  {
   "cell_type": "markdown",
   "metadata": {},
   "source": [
    "Parâmetros dos melhores modelos foram salvos no csv Resultados_Modelos:\n",
    "- O melhor conjunto é n_estimators 200 \n",
    "- min_samples_leaf 1\n",
    "\n",
    "Não trabalhei com outros parâmetros devido ao custo computacional. Com apenas esses parâmetros demorou 30 minutos para fazer o treinamento"
   ]
  },
  {
   "cell_type": "markdown",
   "metadata": {},
   "source": [
    "Ordenei as features por ordem de importância e guardei os resultados no csv importance_var.csv"
   ]
  },
  {
   "cell_type": "code",
   "execution_count": 65,
   "metadata": {},
   "outputs": [
    {
     "data": {
      "text/html": [
       "<div>\n",
       "<style scoped>\n",
       "    .dataframe tbody tr th:only-of-type {\n",
       "        vertical-align: middle;\n",
       "    }\n",
       "\n",
       "    .dataframe tbody tr th {\n",
       "        vertical-align: top;\n",
       "    }\n",
       "\n",
       "    .dataframe thead th {\n",
       "        text-align: right;\n",
       "    }\n",
       "</style>\n",
       "<table border=\"1\" class=\"dataframe\">\n",
       "  <thead>\n",
       "    <tr style=\"text-align: right;\">\n",
       "      <th></th>\n",
       "      <th>importance</th>\n",
       "    </tr>\n",
       "  </thead>\n",
       "  <tbody>\n",
       "    <tr>\n",
       "      <th>qtRecencia</th>\n",
       "      <td>0.050320</td>\n",
       "    </tr>\n",
       "    <tr>\n",
       "      <th>vlLevelAVG</th>\n",
       "      <td>0.025985</td>\n",
       "    </tr>\n",
       "    <tr>\n",
       "      <th>qtMedalhaDist</th>\n",
       "      <td>0.024152</td>\n",
       "    </tr>\n",
       "    <tr>\n",
       "      <th>HsHate</th>\n",
       "      <td>0.020645</td>\n",
       "    </tr>\n",
       "    <tr>\n",
       "      <th>qtShotsAVG</th>\n",
       "      <td>0.020607</td>\n",
       "    </tr>\n",
       "    <tr>\n",
       "      <th>...</th>\n",
       "      <td>...</td>\n",
       "    </tr>\n",
       "    <tr>\n",
       "      <th>qtPartidasMenos16</th>\n",
       "      <td>0.004936</td>\n",
       "    </tr>\n",
       "    <tr>\n",
       "      <th>qtWinsAnciente</th>\n",
       "      <td>0.004213</td>\n",
       "    </tr>\n",
       "    <tr>\n",
       "      <th>qtMedalhaAdquiridas</th>\n",
       "      <td>0.000514</td>\n",
       "    </tr>\n",
       "    <tr>\n",
       "      <th>qtPlusKillAVG</th>\n",
       "      <td>0.000000</td>\n",
       "    </tr>\n",
       "    <tr>\n",
       "      <th>qtOtherMedal</th>\n",
       "      <td>0.000000</td>\n",
       "    </tr>\n",
       "  </tbody>\n",
       "</table>\n",
       "<p>77 rows × 1 columns</p>\n",
       "</div>"
      ],
      "text/plain": [
       "                     importance\n",
       "qtRecencia             0.050320\n",
       "vlLevelAVG             0.025985\n",
       "qtMedalhaDist          0.024152\n",
       "HsHate                 0.020645\n",
       "qtShotsAVG             0.020607\n",
       "...                         ...\n",
       "qtPartidasMenos16      0.004936\n",
       "qtWinsAnciente         0.004213\n",
       "qtMedalhaAdquiridas    0.000514\n",
       "qtPlusKillAVG          0.000000\n",
       "qtOtherMedal           0.000000\n",
       "\n",
       "[77 rows x 1 columns]"
      ]
     },
     "execution_count": 65,
     "metadata": {},
     "output_type": "execute_result"
    }
   ],
   "source": [
    "f_importance = pipe_rf[-1].best_estimator_.feature_importances_\n",
    "df_importance_var_randomFlorest = pd.DataFrame(f_importance, index=features, columns=['importance']).sort_values(by='importance', ascending=False)\n",
    "importancia_var = df_importance_var_randomFlorest\n",
    "importancia_var"
   ]
  },
  {
   "cell_type": "markdown",
   "metadata": {},
   "source": [
    "# Métricas de Avaliação\n",
    "- Baseline de Referência\n",
    "Considerando um cenário de classificação desbalanceada, onde apenas 6.44% das observações no conjunto de teste representam a classe positiva (target=1), estabelecemos um baseline trivial:\n",
    "\n",
    "Um modelo ingênuo que prevê todas as instâncias como classe negativa (target=0) teria uma acurácia esperada de 93.56% (100% - 6.44%).\n",
    "\n",
    "O modelo Random Forest implementado apresentou os seguintes resultados:\n",
    "\n",
    "| **Métrica**  | **Treino**  | **Teste**   | \n",
    "|:-------------|:-----------:|:-----------:|\n",
    "| Acurácia     | 0.9971      | 0.9828      | \n",
    "| AUC-ROC      | 0.9992      | 0.9924      | \n",
    "| Ganho sobre baseline | 6.15% | 4.72% | \n",
    "\n",
    "Os resultados da curva são apresentados uma vez que escolhemos o modelo que apresentava a melhor pontuação nessa métrica."
   ]
  },
  {
   "cell_type": "code",
   "execution_count": 77,
   "metadata": {},
   "outputs": [
    {
     "name": "stdout",
     "output_type": "stream",
     "text": [
      "Acurácia treino: 0.9971\n",
      "Acurácia teste: 0.9828\n",
      "AUC treino: 0.9992\n",
      "AUC teste: 0.9924\n",
      "Proporção de target=1 (treino): 6.45%\n",
      "Proporção de target=1 (teste): 6.44%\n"
     ]
    }
   ],
   "source": [
    "y_train_pred = pipe_rf.predict(X_train)\n",
    "y_train_prob = pipe_rf.predict_proba(X_train)\n",
    "y_test_pred = pipe_rf.predict(X_test)\n",
    "y_test_prob = pipe_rf.predict_proba(X_test)\n",
    "\n",
    "print(f'Acurácia treino: {metrics.accuracy_score(y_train, y_train_pred):.4f}')\n",
    "print(f'Acurácia teste: {metrics.accuracy_score(y_test, y_test_pred):.4f}')\n",
    "print(f'AUC treino: {metrics.roc_auc_score(y_train, y_train_prob[:,1]):.4f}')\n",
    "print(f'AUC teste: {metrics.roc_auc_score(y_test, y_test_prob[:,1]):.4f}')\n",
    "\n",
    "# Distribuição das classes\n",
    "print(f'Proporção de target=1 (treino): {y_train.mean():.2%}')\n",
    "print(f'Proporção de target=1 (teste): {y_test.mean():.2%}')"
   ]
  },
  {
   "cell_type": "code",
   "execution_count": 76,
   "metadata": {},
   "outputs": [
    {
     "data": {
      "text/plain": [
       "<Axes: title={'center': 'ROC Curves'}, xlabel='False Positive Rate', ylabel='True Positive Rate'>"
      ]
     },
     "execution_count": 76,
     "metadata": {},
     "output_type": "execute_result"
    },
    {
     "data": {
      "image/png": "[encoded data removed]",
      "text/plain": [
       "<Figure size 640x480 with 1 Axes>"
      ]
     },
     "metadata": {},
     "output_type": "display_data"
    }
   ],
   "source": [
    "skplt.metrics.plot_roc(y_test, y_test_prob)"
   ]
  },
  {
   "cell_type": "markdown",
   "metadata": {},
   "source": [
    "# KS Statistic Plot \n",
    "- KS Statistic (0.933)\n",
    "\n",
    "É a máxima distância vertical entre as duas curvas cumulativas. Quanto maior esse valor (entre 0 e 1), melhor o modelo consegue diferenciar as classes.\n",
    "\n",
    "- Threshold  (0.90)\n",
    "\n",
    "A separação máxima ocorre quando você classifica como target=1 apenas os casos com probabilidade prevista ≥ 90%.\n",
    "\n",
    "- Consequências:\n",
    "\n",
    "Se escolher usar esse threshold, terá a máxima discriminação entre classes, mas isso pode levar a:\n",
    "\n",
    "1. Alta precisão: Quase todos os classificados como target=1 serão verdadeiros positivos.\n",
    "\n",
    "2. Posso obter assinantes reais (target=1) podem ser deixados de fora (falsos negativos).\n",
    "\n",
    "KS Statistic Plot é um bom ponto de partida para avaliar o Threshold do modelo. Exemplo:\n",
    "\n",
    "- Usar o threshold de 0.90 se a prioridade for evitar falsos positivos em campanhas de marketing com custo alto por pessoa."
   ]
  },
  {
   "cell_type": "code",
   "execution_count": 78,
   "metadata": {},
   "outputs": [
    {
     "data": {
      "text/plain": [
       "<Axes: title={'center': 'KS Statistic Plot'}, xlabel='Threshold', ylabel='Percentage below threshold'>"
      ]
     },
     "execution_count": 78,
     "metadata": {},
     "output_type": "execute_result"
    },
    {
     "data": {
      "image/png": "[encoded data removed]",
      "text/plain": [
       "<Figure size 640x480 with 1 Axes>"
      ]
     },
     "metadata": {},
     "output_type": "display_data"
    }
   ],
   "source": [
    "skplt.metrics.plot_ks_statistic(y_test,y_test_prob)"
   ]
  },
  {
   "cell_type": "markdown",
   "metadata": {},
   "source": [
    "# Precision-Recall Plot\n",
    "\n",
    "Com esse gráfico conseguimos ver a qualidade da previsões positivas (target=1|Precisão) e comparar com a capacidade de identificar todos os positivos para diferentes thresholds. Como temos desbalaceamento entre as váriaveis ela é uma métrica importante. \n",
    "\n",
    "- Class 0 (target=0): AUC = 0.999\n",
    "Indica desempenho quase perfeito na identificação da classe majoritária (não assinantes). Entretanto esse valor já é esperado devido ao desbalancemento das variáveis, uma vez que temos 93% de target =0\n",
    "\n",
    "- Class 1 (target=1): AUC = 0.919\n",
    "Indica um bom desepenho para inditificação da classe minoritária (assinantes), mas ainda temos uma quantidade de falsos positivo ou falsos negativos. \n",
    "\n",
    "-  Micro-Average: AUC = 0.998\n",
    "Reflete o desempenho global do modelo considerando ambas as classes juntas.\n",
    "\n",
    "- Consequências:\n",
    "1. Como temos uma boa identificação de não assinantes (target=0) o modelo se mostra excelente para minimizar custos operacionais em campanhas de retenção para clientes que não são assinantes.\n",
    "2. Por outro lado, o modelo também é eficiente para identificar quais pessoas serão assinantes de modo que tem um bom poder preditivo de receitas. "
   ]
  },
  {
   "cell_type": "code",
   "execution_count": 79,
   "metadata": {},
   "outputs": [
    {
     "data": {
      "text/plain": [
       "<Axes: title={'center': 'Precision-Recall Curve'}, xlabel='Recall', ylabel='Precision'>"
      ]
     },
     "execution_count": 79,
     "metadata": {},
     "output_type": "execute_result"
    },
    {
     "data": {
      "image/png": "[encoded data removed]",
      "text/plain": [
       "<Figure size 640x480 with 1 Axes>"
      ]
     },
     "metadata": {},
     "output_type": "display_data"
    }
   ],
   "source": [
    "skplt.metrics.plot_precision_recall(y_test, y_test_prob)"
   ]
  },
  {
   "cell_type": "markdown",
   "metadata": {},
   "source": [
    " A curva de lift mostra quantas vezes o meu modelo é melhor do que um modelo aleatório \n",
    "\n",
    "### Interpretação dos Pontos da Curva de Lift \n",
    "\n",
    "| **x (População)** | **y (Lift)** | **Significado**                                                                 |\n",
    "|--------------------|--------------|---------------------------------------------------------------------------------|\n",
    "| 0.05 (5%)          | 13           | Nos 5% mais propensos a assinar (segundo o modelo), há **13x mais assinantes** que a média. |\n",
    "| 0.10 (10%)         | 9.8          | Nos 10% mais propensos, há **9.8x mais assinantes** que a média.               |\n",
    "| 0.20 (20%)         | 5            | Nos 20% mais propensos, há **5x mais assinantes** que a média.                 |\n",
    "| 0.40 (40%)         | 2.2          | Nos 40% mais propensos, há **2.2x mais assinantes** que a média.               |\n",
    "| 0.60 (60%)         | 1.8          | Nos 60% mais propensos, há **1.8x mais assinantes** que a média.               |\n",
    "\n",
    "Com esses dados podemos avaliar o custo/resultado de uma campanha direcionada em relação a uma proporção do público"
   ]
  },
  {
   "cell_type": "code",
   "execution_count": 80,
   "metadata": {},
   "outputs": [
    {
     "data": {
      "text/plain": [
       "<Axes: title={'center': 'Lift Curve'}, xlabel='Percentage of sample', ylabel='Lift'>"
      ]
     },
     "execution_count": 80,
     "metadata": {},
     "output_type": "execute_result"
    },
    {
     "data": {
      "image/png": "[encoded data removed]",
      "text/plain": [
       "<Figure size 640x480 with 1 Axes>"
      ]
     },
     "metadata": {},
     "output_type": "display_data"
    }
   ],
   "source": [
    "skplt.metrics.plot_lift_curve(y_test,y_test_prob)"
   ]
  },
  {
   "cell_type": "markdown",
   "metadata": {},
   "source": [
    "# Matriz de confusão: \n",
    "\n",
    "### Legenda da Matriz de Confusão\n",
    "\n",
    "|                     | **Previsto Não-Assinante (0)** | **Previsto Assinante (1)** |\n",
    "|---------------------|-------------------------------|---------------------------|\n",
    "| **Real Não-Assinante (0)** | 19.949 (TN)                  | 84 (FP)                   |\n",
    "| **Real Assinante (1)**    | 284 (FN)                     | 1.096 (TP)                |\n",
    "\n",
    "*(TN = Verdadeiro Negativo, FP = Falso Positivo, FN = Falso Negativo, TP = Verdadeiro Positivo)*\n",
    "\n",
    "Um ponto de atenção são os falsos negativos. Apesar de ser um valor pequeno (284) em relação aos verdadeiros positivos (19949), entender o perfil dessas pessoas é uma bota rota para melhorar o modelo"
   ]
  },
  {
   "cell_type": "code",
   "execution_count": 92,
   "metadata": {},
   "outputs": [
    {
     "data": {
      "image/png": "[encoded data removed]",
      "text/plain": [
       "<Figure size 700x400 with 2 Axes>"
      ]
     },
     "metadata": {},
     "output_type": "display_data"
    }
   ],
   "source": [
    "# Calcular a matriz de confusão\n",
    "nb_conf = metrics.confusion_matrix(y_test, y_test_pred)\n",
    "\n",
    "# Criar um DataFrame a partir da matriz de confusão\n",
    "conf_df = pd.DataFrame(nb_conf, index=['P', 'N'], columns=['P', 'N'])\n",
    "\n",
    "# Plotar a matriz de confusão\n",
    "plt.figure(figsize=(7, 4))\n",
    "sns.heatmap(conf_df, annot=True, fmt='d', cmap='Blues', linewidths=.5)\n",
    "plt.title('Matriz de Confusão')\n",
    "plt.show()"
   ]
  }
 ],
 "metadata": {
  "kernelspec": {
   "display_name": ".venv",
   "language": "python",
   "name": "python3"
  },
  "language_info": {
   "codemirror_mode": {
    "name": "ipython",
    "version": 3
   },
   "file_extension": ".py",
   "mimetype": "text/x-python",
   "name": "python",
   "nbconvert_exporter": "python",
   "pygments_lexer": "ipython3",
   "version": "3.9.13"
  }
 },
 "nbformat": 4,
 "nbformat_minor": 2
}
