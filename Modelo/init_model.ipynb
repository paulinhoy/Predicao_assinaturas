{
 "cells": [
  {
   "cell_type": "code",
   "execution_count": 111,
   "metadata": {},
   "outputs": [],
   "source": [
    "import pandas as pd\n",
    "import numpy as np\n",
    "from datetime import datetime, timedelta\n",
    "pd.set_option('display.max_columns', None)\n",
    "\n",
    "\n",
    "#Graficos\n",
    "import matplotlib.pyplot as plt\n",
    "import seaborn as sns\n",
    "\n",
    "#Metricas, Pipeline\n",
    "from sklearn import metrics\n",
    "from sklearn import model_selection\n",
    "from sklearn import pipeline\n",
    "\n",
    "#Modelos\n",
    "from sklearn import tree\n",
    "from sklearn import linear_model\n",
    "from sklearn import ensemble\n",
    "from sklearn import naive_bayes"
   ]
  },
  {
   "cell_type": "markdown",
   "metadata": {},
   "source": [
    "# Abrindo o banco de dados / Limpando dados duplicados"
   ]
  },
  {
   "cell_type": "code",
   "execution_count": 19,
   "metadata": {},
   "outputs": [],
   "source": [
    "df_stats = pd.read_csv('../New_csv/df_info_statsplayers')\n",
    "df_medals = pd.read_csv('../New_csv/df_info_medalhas')\n",
    "df_medals = df_medals.drop(columns='Unnamed: 0')\n",
    "df_stats = df_stats.drop(columns='Unnamed: 0')\n",
    "df_medals = df_medals.drop_duplicates()"
   ]
  },
  {
   "cell_type": "markdown",
   "metadata": {},
   "source": [
    "- Juntando os dois dataframes com o parâmetro \"how='outer'\" o dataframe resultante terá dados preenchido com NaN\n",
    "- Vou completar esses dados com 0, pois se tivermos dados vazio em jogos ou medalhas que dizer que o player não possui valor nesse campos, não é devido a falta de informação"
   ]
  },
  {
   "cell_type": "code",
   "execution_count": 23,
   "metadata": {},
   "outputs": [],
   "source": [
    "df = pd.merge(df_stats, df_medals, on=['idPlayer','Data_Ref'], how='outer')\n",
    "df = df.fillna(0)"
   ]
  },
  {
   "cell_type": "markdown",
   "metadata": {},
   "source": [
    "Construindo uma função que recebe duas datas e cria uma lista como todas as datas entre data_inicial e data_final"
   ]
  },
  {
   "cell_type": "code",
   "execution_count": 24,
   "metadata": {},
   "outputs": [],
   "source": [
    "def listar_dias(data_inicial, data_final):\n",
    "    # Converter as strings de data em objetos datetime\n",
    "    data_inicial = datetime.strptime(data_inicial, '%Y-%m-%d')\n",
    "    data_final = datetime.strptime(data_final, '%Y-%m-%d')\n",
    "\n",
    "    # Gerar a lista de dias entre as datas\n",
    "    dias = []\n",
    "    delta = timedelta(days=1)     \n",
    "    while data_inicial <= data_final:\n",
    "        dias.append(data_inicial.strftime('%Y-%m-%d'))\n",
    "        data_inicial += delta\n",
    "\n",
    "    return dias\n",
    "\n",
    "data_inicial = '2021-10-14'\n",
    "data_final = '2022-01-15'         #data_final = '2022-01-15'\n",
    "dias = listar_dias(data_inicial,data_final)"
   ]
  },
  {
   "cell_type": "markdown",
   "metadata": {},
   "source": [
    "# Construção da variável alvo\n",
    "\n",
    "- Objetivo: Descobrir qual a probabilidade de um player que não é assinante se tornar assinante.\n",
    "\n",
    "- Para isso, vou filtrar os dados para que tenha somente informação dos players que não tem assinatura ativa"
   ]
  },
  {
   "cell_type": "code",
   "execution_count": 29,
   "metadata": {},
   "outputs": [
    {
     "name": "stderr",
     "output_type": "stream",
     "text": [
      "C:\\Users\\Paulo Henrique\\AppData\\Local\\Temp\\ipykernel_16844\\874572345.py:2: SettingWithCopyWarning: \n",
      "A value is trying to be set on a copy of a slice from a DataFrame.\n",
      "Try using .loc[row_indexer,col_indexer] = value instead\n",
      "\n",
      "See the caveats in the documentation: https://pandas.pydata.org/pandas-docs/stable/user_guide/indexing.html#returning-a-view-versus-a-copy\n",
      "  df_ML['Alvo'] = 0\n"
     ]
    }
   ],
   "source": [
    "df_ML = df[df['AssinaturaAtiva'] == 0.0]\n",
    "df_ML['Alvo'] = 0"
   ]
  },
  {
   "cell_type": "markdown",
   "metadata": {},
   "source": [
    "- Minha variável alvo é definida como ['alvo'] = 1 se o player tem uma assinatura que foi criada até 15 dias depois da Data_Ref"
   ]
  },
  {
   "cell_type": "code",
   "execution_count": 32,
   "metadata": {},
   "outputs": [],
   "source": [
    "for dia_ref in dias:\n",
    "    df_players_medals = pd.read_csv('../Original_csv/tb_players_medalha.csv')\n",
    "    df_players_medals = df_players_medals[df_players_medals['dtCreatedAt'] < df_players_medals['dtExpiration']]\n",
    "    df_players_medals['dtCreatedAt'] = pd.to_datetime(df_players_medals['dtCreatedAt'])\n",
    "    df_players_medals = df_players_medals[df_players_medals['dtCreatedAt'] > dia_ref]\n",
    "    df_players_medals = df_players_medals[df_players_medals['dtCreatedAt'] < pd.to_datetime(dia_ref) + pd.Timedelta(days=15)]\n",
    "    df_players_medals['Alvo'] = 1\n",
    "    df_alvo = df_players_medals[['idPlayer', 'Alvo']].drop_duplicates()\n",
    "    df_alvo['Data_Ref'] = dia_ref\n",
    "\n",
    "    df_ML = df_ML.set_index(['idPlayer', 'Data_Ref'])\n",
    "    df_alvo = df_alvo.set_index(['idPlayer', 'Data_Ref'])\n",
    "    df_ML.update(df_alvo)\n",
    "    df_ML = df_ML.reset_index()\n",
    "\n",
    "df_ML = df_ML.drop_duplicates(subset=['idPlayer', 'Data_Ref'])"
   ]
  },
  {
   "cell_type": "markdown",
   "metadata": {},
   "source": [
    "Limpando alguns dados que me deram problemas"
   ]
  },
  {
   "cell_type": "code",
   "execution_count": 44,
   "metadata": {},
   "outputs": [],
   "source": [
    "df_ML['qtRecencia'] = df_ML['qtRecencia'].str.replace(' days', '')\n",
    "df_ML = df_ML.fillna(0)\n",
    "df_ML.replace([np.inf, -np.inf], 1.10, inplace=True)   # KDA tive uma divisão por zero"
   ]
  },
  {
   "cell_type": "markdown",
   "metadata": {},
   "source": [
    "# Modelos de Machine Learning\n",
    "\n",
    "1. Definindo quais são as features é o alvo\n",
    "2. Devidindo a base de dados em base de treino e de teste "
   ]
  },
  {
   "cell_type": "code",
   "execution_count": 45,
   "metadata": {},
   "outputs": [],
   "source": [
    "features = df_ML.columns[2:-2]\n",
    "features = features.to_list()\n",
    "target = 'Alvo'\n",
    "\n",
    "X = df_ML[features]\n",
    "y = df_ML[target]\n",
    "\n",
    "X_train, X_test, y_train, y_test = model_selection.train_test_split(df_ML[features],df_ML[target], test_size= 0.2, random_state=42, stratify=df_ML[target]) "
   ]
  },
  {
   "cell_type": "markdown",
   "metadata": {},
   "source": [
    "Treinamento do modelo: Tree\n",
    "\n",
    "- Aqui eu coloco o grid dentro do pipeline, então meu fluxo de trabalho é:\n",
    "\n",
    "1. Os dados passam por todas as modificações que eles precisam até estarem prontos para serem treinados\n",
    "2. Os dados, agora pronto para serem treinados, passam pelo grid em que são treinados com diferentes parâmetros e é feito a comparação para eleger a melhor combinação\n",
    "\n",
    "Desse modo eu não preciso processar os dados todas as vezes em que ele passar pelo grid com um parâmetro diferente"
   ]
  },
  {
   "cell_type": "code",
   "execution_count": null,
   "metadata": {},
   "outputs": [],
   "source": [
    "# Definir o modelo e o pipeline\n",
    "model = ensemble.RandomForestClassifier()\n",
    "\n",
    "# Definir os parâmetros para o GridSearchCV\n",
    "params = {\n",
    "    \"n_estimators\": [100, 150, 250, 500],\n",
    "    \"min_samples_leaf\": [10, 20, 30, 50, 100]\n",
    "}\n",
    "\n",
    "# Criar o objeto GridSearchCV\n",
    "grid = model_selection.GridSearchCV(model, param_grid=params, n_jobs=-1, scoring='roc_auc')\n",
    "\n",
    "\n",
    "meu_pipeline = pipeline.Pipeline([\n",
    "    ('model', grid)\n",
    "])\n",
    "\n",
    "# Ajustar o GridSearchCV com os dados de treinamento\n",
    "meu_pipeline.fit(X_train, y_train)\n",
    "\n",
    "# Previsões usando o grid ajustado\n",
    "y_train_predict = meu_pipeline.predict(X_train)\n",
    "y_train_proba = meu_pipeline.predict_proba(X_train)\n",
    "\n",
    "y_test_predict = meu_pipeline.predict(X_test)\n",
    "y_test_proba = meu_pipeline.predict_proba(X_test)\n",
    "\n",
    "Resultados_grid = pd.DataFrame(grid.cv_results_)  #Caso queria ver quais parâmetros foram selecionados \n"
   ]
  },
  {
   "cell_type": "markdown",
   "metadata": {},
   "source": [
    "Quero descobrir quais são as variáveis mais relevantes para o meu modelo "
   ]
  },
  {
   "cell_type": "code",
   "execution_count": 105,
   "metadata": {},
   "outputs": [
    {
     "data": {
      "text/html": [
       "<div>\n",
       "<style scoped>\n",
       "    .dataframe tbody tr th:only-of-type {\n",
       "        vertical-align: middle;\n",
       "    }\n",
       "\n",
       "    .dataframe tbody tr th {\n",
       "        vertical-align: top;\n",
       "    }\n",
       "\n",
       "    .dataframe thead th {\n",
       "        text-align: right;\n",
       "    }\n",
       "</style>\n",
       "<table border=\"1\" class=\"dataframe\">\n",
       "  <thead>\n",
       "    <tr style=\"text-align: right;\">\n",
       "      <th></th>\n",
       "      <th>importance</th>\n",
       "    </tr>\n",
       "  </thead>\n",
       "  <tbody>\n",
       "    <tr>\n",
       "      <th>qtMedalhaDist</th>\n",
       "      <td>0.033776</td>\n",
       "    </tr>\n",
       "    <tr>\n",
       "      <th>vlLevelAVG</th>\n",
       "      <td>0.032121</td>\n",
       "    </tr>\n",
       "    <tr>\n",
       "      <th>qtPlus</th>\n",
       "      <td>0.023945</td>\n",
       "    </tr>\n",
       "    <tr>\n",
       "      <th>HsHate</th>\n",
       "      <td>0.022424</td>\n",
       "    </tr>\n",
       "    <tr>\n",
       "      <th>qtShotsAVG</th>\n",
       "      <td>0.022145</td>\n",
       "    </tr>\n",
       "    <tr>\n",
       "      <th>qtHitStomachAVG</th>\n",
       "      <td>0.019648</td>\n",
       "    </tr>\n",
       "    <tr>\n",
       "      <th>vlLevel</th>\n",
       "      <td>0.018724</td>\n",
       "    </tr>\n",
       "    <tr>\n",
       "      <th>qtBombePlantAVG</th>\n",
       "      <td>0.018646</td>\n",
       "    </tr>\n",
       "    <tr>\n",
       "      <th>qtHitRightLegAVG</th>\n",
       "      <td>0.018257</td>\n",
       "    </tr>\n",
       "    <tr>\n",
       "      <th>qtHitChestAVG</th>\n",
       "      <td>0.017697</td>\n",
       "    </tr>\n",
       "    <tr>\n",
       "      <th>qtHitHeadshotAVG</th>\n",
       "      <td>0.017143</td>\n",
       "    </tr>\n",
       "    <tr>\n",
       "      <th>qtHitsAVG</th>\n",
       "      <td>0.016780</td>\n",
       "    </tr>\n",
       "    <tr>\n",
       "      <th>qtHsAVG</th>\n",
       "      <td>0.016622</td>\n",
       "    </tr>\n",
       "    <tr>\n",
       "      <th>qtHitRightArmAVG</th>\n",
       "      <td>0.016586</td>\n",
       "    </tr>\n",
       "    <tr>\n",
       "      <th>qtTradeAVG</th>\n",
       "      <td>0.016343</td>\n",
       "    </tr>\n",
       "  </tbody>\n",
       "</table>\n",
       "</div>"
      ],
      "text/plain": [
       "                  importance\n",
       "qtMedalhaDist       0.033776\n",
       "vlLevelAVG          0.032121\n",
       "qtPlus              0.023945\n",
       "HsHate              0.022424\n",
       "qtShotsAVG          0.022145\n",
       "qtHitStomachAVG     0.019648\n",
       "vlLevel             0.018724\n",
       "qtBombePlantAVG     0.018646\n",
       "qtHitRightLegAVG    0.018257\n",
       "qtHitChestAVG       0.017697\n",
       "qtHitHeadshotAVG    0.017143\n",
       "qtHitsAVG           0.016780\n",
       "qtHsAVG             0.016622\n",
       "qtHitRightArmAVG    0.016586\n",
       "qtTradeAVG          0.016343"
      ]
     },
     "execution_count": 105,
     "metadata": {},
     "output_type": "execute_result"
    }
   ],
   "source": [
    "f_importance = meu_pipeline[-1].best_estimator_.feature_importances_\n",
    "df_importance_var_randomFlorest = pd.DataFrame(f_importance, index=features, columns=['importance']).sort_values(by='importance', ascending=False)\n",
    "df_importance_var_randomFlorest.head(15)"
   ]
  },
  {
   "cell_type": "markdown",
   "metadata": {},
   "source": [
    "Metricas\n",
    "\n",
    "1. Acurácia \n",
    "2. Curva roc (AUC)"
   ]
  },
  {
   "cell_type": "code",
   "execution_count": 109,
   "metadata": {},
   "outputs": [
    {
     "name": "stdout",
     "output_type": "stream",
     "text": [
      "Acurácia base de train 0.973286631640397\n",
      "Acurácia base de test 0.9596973800962032\n",
      "auc base de train 0.8062828995254752\n",
      "auc base de test 0.7072230819148405\n"
     ]
    }
   ],
   "source": [
    "acc_train = metrics.accuracy_score(y_train, y_train_predict) \n",
    "acc_test = metrics.accuracy_score(y_test, y_test_predict)\n",
    "auc_train = metrics.roc_auc_score(y_train, y_train_predict)\n",
    "auc_test = metrics.roc_auc_score(y_test, y_test_predict)\n",
    "\n",
    "print('Acurácia base de train', acc_train)\n",
    "print('Acurácia base de test', acc_test)\n",
    "print('auc base de train', auc_train)\n",
    "print('auc base de test', auc_test)"
   ]
  },
  {
   "cell_type": "markdown",
   "metadata": {},
   "source": [
    "# Matriz de confusão"
   ]
  },
  {
   "cell_type": "code",
   "execution_count": 120,
   "metadata": {},
   "outputs": [
    {
     "data": {
      "image/png": "[encoded data removed]",
      "text/plain": [
       "<Figure size 700x400 with 2 Axes>"
      ]
     },
     "metadata": {},
     "output_type": "display_data"
    }
   ],
   "source": [
    "# Calcular a matriz de confusão\n",
    "nb_conf = metrics.confusion_matrix(y_test, y_test_predict)\n",
    "\n",
    "# Criar um DataFrame a partir da matriz de confusão\n",
    "conf_df = pd.DataFrame(nb_conf, index=['P', 'N'], columns=['P', 'N'])\n",
    "\n",
    "# Plotar a matriz de confusão\n",
    "plt.figure(figsize=(7, 4))\n",
    "sns.heatmap(conf_df, annot=True, fmt='d', cmap='Blues', linewidths=.5)\n",
    "plt.title('Matriz de Confusão')\n",
    "plt.show()\n"
   ]
  }
 ],
 "metadata": {
  "kernelspec": {
   "display_name": "Python 3",
   "language": "python",
   "name": "python3"
  },
  "language_info": {
   "codemirror_mode": {
    "name": "ipython",
    "version": 3
   },
   "file_extension": ".py",
   "mimetype": "text/x-python",
   "name": "python",
   "nbconvert_exporter": "python",
   "pygments_lexer": "ipython3",
   "version": "3.12.2"
  }
 },
 "nbformat": 4,
 "nbformat_minor": 2
}
